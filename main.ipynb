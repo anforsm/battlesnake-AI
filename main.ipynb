{
 "cells": [
  {
   "cell_type": "code",
   "execution_count": 118,
   "metadata": {},
   "outputs": [],
   "source": [
    "from importlib import reload\n",
    "import os\n",
    "import json\n",
    "import board\n",
    "import snake\n",
    "reload(board)\n",
    "reload(snake)\n",
    "from board import GeneralBoard\n",
    "from snake import Snake, ControllableSnake"
   ]
  },
  {
   "cell_type": "code",
   "execution_count": 129,
   "metadata": {},
   "outputs": [
    {
     "data": {
      "image/png": "[encoded data removed]"
     },
     "metadata": {},
     "output_type": "display_data"
    },
    {
     "data": {
      "text/plain": [
       "<board.GeneralBoard at 0x2aac8f54510>"
      ]
     },
     "execution_count": 129,
     "metadata": {},
     "output_type": "execute_result"
    }
   ],
   "source": [
    "#sample_game_state = {\"game\": {\"id\": \"d76a05f5-e961-4523-807f-2d5e5825cd95\", \"ruleset\": {\"name\": \"standard\", \"version\": \"cli\", \"settings\": {\"foodSpawnChance\": 15, \"minimumFood\": 1, \"hazardDamagePerTurn\": 14, \"hazardMap\": \"\", \"hazardMapAuthor\": \"\", \"royale\": {\"shrinkEveryNTurns\": 25}, \"squad\": {\"allowBodyCollisions\": False, \"sharedElimination\": False, \"sharedHealth\": False, \"sharedLength\": False}}}, \"map\": \"standard\", \"timeout\": 500, \"source\": \"\"}, \"turn\": 7, \"board\": {\"height\": 11, \"width\": 11, \"snakes\": [{\"id\": \"f5397cbd-611f-47bc-96fd-7ca72e543bef\", \"name\": \"Team 1 Snake 1\", \"latency\": \"8\", \"health\": 100, \"body\": [{\"x\": 4, \"y\": 1}, {\"x\": 4, \"y\": 2}, {\"x\": 3, \"y\": 2}, {\"x\": 2, \"y\": 2}], \"head\": {\"x\": 4, \"y\": 1}, \"length\": 4, \"shout\": \"\", \"squad\": \"\", \"customizations\": {\"color\": \"#ff4e03\", \"head\": \"default\", \"tail\": \"default\"}}, {\"id\": \"8e15dfcc-fe37-4484-a946-62ff1430f6ac\", \"name\": \"Team 1 Snake 2\", \"latency\": \"8\", \"health\": 95, \"body\": [{\"x\": 5, \"y\": 8}, {\"x\": 4, \"y\": 8}, {\"x\": 3, \"y\": 8}, {\"x\": 2, \"y\": 8}], \"head\": {\"x\": 5, \"y\": 8}, \"length\": 4, \"shout\": \"\", \"squad\": \"\", \"customizations\": {\"color\": \"#ff4e03\", \"head\": \"default\", \"tail\": \"default\"}}], \"food\": [{\"x\": 5, \"y\": 5}, {\"x\": 10, \"y\": 10}], \"hazards\": []}, \"you\": {\"id\": \"f5397cbd-611f-47bc-96fd-7ca72e543bef\", \"name\": \"Team 1 Snake 1\", \"latency\": \"0\", \"health\": 100, \"body\": [{\"x\": 4, \"y\": 1}, {\"x\": 4, \"y\": 2}, {\"x\": 3, \"y\": 2}, {\"x\": 2, \"y\": 2}, {\"x\": 2, \"y\": 2}], \"head\": {\"x\": 4, \"y\": 1}, \"length\": 5, \"shout\": \"\", \"squad\": \"\", \"customizations\": {\"color\": \"#ff4e03\", \"head\": \"default\", \"tail\": \"default\"}}}\n",
    "#sample_game_state = {\"game\": {\"id\": \"c14280c0-d8c9-4cae-b141-3cd2f8ddc9ba\", \"ruleset\": {\"name\": \"standard\", \"version\": \"cli\", \"settings\": {\"foodSpawnChance\": 15, \"minimumFood\": 1, \"hazardDamagePerTurn\": 14, \"hazardMap\": \"\", \"hazardMapAuthor\": \"\", \"royale\": {\"shrinkEveryNTurns\": 25}, \"squad\": {\"allowBodyCollisions\": False, \"sharedElimination\": False, \"sharedHealth\": False, \"sharedLength\": False}}}, \"map\": \"standard\", \"timeout\": 500, \"source\": \"\"}, \"turn\": 62, \"board\": {\"height\": 11, \"width\": 11, \"snakes\": [{\"id\": \"9484f690-7815-4b8a-ad76-b85d4be4bfa2\", \"name\": \"Team 1 Snake 1\", \"latency\": \"20\", \"health\": 88, \"body\": [{\"x\": 0, \"y\": 2}, {\"x\": 1, \"y\": 2}, {\"x\": 1, \"y\": 3}, {\"x\": 1, \"y\": 4}, {\"x\": 1, \"y\": 5}, {\"x\": 1, \"y\": 6}, {\"x\": 1, \"y\": 7}, {\"x\": 1, \"y\": 8}, {\"x\": 1, \"y\": 9}, {\"x\": 2, \"y\": 9}, {\"x\": 3, \"y\": 9}, {\"x\": 4, \"y\": 9}], \"head\": {\"x\": 0, \"y\": 2}, \"length\": 12, \"shout\": \"\", \"squad\": \"\", \"customizations\": {\"color\": \"#ff4e03\", \"head\": \"tiger-king\", \"tail\": \"tiger-tail\"}}, {\"id\": \"3adfaa85-ba3c-4396-bdf9-0eed7adba6ef\", \"name\": \"Team 1 Snake 2\", \"latency\": \"19\", \"health\": 96, \"body\": [{\"x\": 2, \"y\": 0}, {\"x\": 2, \"y\": 1}, {\"x\": 3, \"y\": 1}, {\"x\": 4, \"y\": 1}, {\"x\": 5, \"y\": 1}, {\"x\": 5, \"y\": 2}, {\"x\": 4, \"y\": 2}, {\"x\": 3, \"y\": 2}, {\"x\": 3, \"y\": 3}, {\"x\": 4, \"y\": 3}], \"head\": {\"x\": 2, \"y\": 0}, \"length\": 10, \"shout\": \"\", \"squad\": \"\", \"customizations\": {\"color\": \"#ff4e03\", \"head\": \"tiger-king\", \"tail\": \"tiger-tail\"}}], \"food\": [{\"x\": 1, \"y\": 0}, {\"x\": 4, \"y\": 5}, {\"x\": 9, \"y\": 4}], \"hazards\": []}, \"you\": {\"id\": \"3adfaa85-ba3c-4396-bdf9-0eed7adba6ef\", \"name\": \"Team 1 Snake 2\", \"latency\": \"0\", \"health\": 96, \"body\": [{\"x\": 2, \"y\": 0}, {\"x\": 2, \"y\": 1}, {\"x\": 3, \"y\": 1}, {\"x\": 4, \"y\": 1}, {\"x\": 5, \"y\": 1}, {\"x\": 5, \"y\": 2}, {\"x\": 4, \"y\": 2}, {\"x\": 3, \"y\": 2}, {\"x\": 3, \"y\": 3}, {\"x\": 4, \"y\": 3}], \"head\": {\"x\": 2, \"y\": 0}, \"length\": 10, \"shout\": \"\", \"squad\": \"\", \"customizations\": {\"color\": \"#ff4e03\", \"head\": \"tiger-king\", \"tail\": \"tiger-tail\"}}}\n",
    "path = \"./game_states/2023-05-17_00 (20f)/81.json\"\n",
    "f = open(path, \"r\")\n",
    "s = f.readline()\n",
    "sample_game_state = json.loads(s)\n",
    "board = GeneralBoard(11, 11)\n",
    "snake1 = Snake(sample_game_state[\"board\"][\"snakes\"][0][\"id\"])\n",
    "snake2 = Snake(sample_game_state[\"board\"][\"snakes\"][1][\"id\"])\n",
    "snake1.place_on_board(board)\n",
    "snake2.place_on_board(board)\n",
    "snake1.update_state(sample_game_state[\"board\"][\"snakes\"][0])\n",
    "snake2.update_state(sample_game_state[\"board\"][\"snakes\"][1])\n",
    "\n",
    "board"
   ]
  },
  {
   "cell_type": "code",
   "execution_count": 132,
   "metadata": {},
   "outputs": [
    {
     "name": "stdout",
     "output_type": "stream",
     "text": [
      "0 ['right']\n",
      "1 ['right']\n",
      "2 ['up', 'down', 'right']\n",
      "3 ['up', 'right']\n",
      "4 ['up', 'right']\n",
      "5 ['up', 'right']\n",
      "6 ['left', 'right']\n",
      "7 ['down', 'left']\n",
      "8 ['down', 'left']\n",
      "9 ['down', 'left']\n",
      "10 ['left']\n",
      "11\n"
     ]
    },
    {
     "data": {
      "image/png": "[encoded data removed]"
     },
     "metadata": {},
     "output_type": "display_data"
    },
    {
     "data": {
      "image/png": "[encoded data removed]"
     },
     "metadata": {},
     "output_type": "display_data"
    },
    {
     "data": {
      "image/png": "[encoded data removed]"
     },
     "metadata": {},
     "output_type": "display_data"
    },
    {
     "data": {
      "image/png": "[encoded data removed]"
     },
     "metadata": {},
     "output_type": "display_data"
    },
    {
     "data": {
      "image/png": "[encoded data removed]"
     },
     "metadata": {},
     "output_type": "display_data"
    },
    {
     "data": {
      "image/png": "[encoded data removed]"
     },
     "metadata": {},
     "output_type": "display_data"
    },
    {
     "data": {
      "image/png": "[encoded data removed]"
     },
     "metadata": {},
     "output_type": "display_data"
    },
    {
     "data": {
      "image/png": "[encoded data removed]"
     },
     "metadata": {},
     "output_type": "display_data"
    },
    {
     "data": {
      "image/png": "[encoded data removed]"
     },
     "metadata": {},
     "output_type": "display_data"
    },
    {
     "data": {
      "image/png": "[encoded data removed]"
     },
     "metadata": {},
     "output_type": "display_data"
    },
    {
     "data": {
      "image/png": "[encoded data removed]"
     },
     "metadata": {},
     "output_type": "display_data"
    },
    {
     "data": {
      "text/plain": [
       "[None, None, None, None, None, None, None, None, None, None, None]"
      ]
     },
     "execution_count": 132,
     "metadata": {},
     "output_type": "execute_result"
    }
   ],
   "source": [
    "futures = snake2.alternative_futures(\"down\")\n",
    "print(len(futures))\n",
    "[f._repr_png_() for f in futures]"
   ]
  },
  {
   "cell_type": "code",
   "execution_count": 121,
   "metadata": {},
   "outputs": [
    {
     "name": "stdout",
     "output_type": "stream",
     "text": [
      "0 ['up', 'right']\n",
      "1 ['right']\n",
      "2 ['down']\n",
      "3 []\n",
      "1 ['up']\n",
      "2 ['left']\n",
      "3 []\n"
     ]
    }
   ],
   "source": [
    "future = snake1.alternative_futures(\"up\")"
   ]
  },
  {
   "cell_type": "code",
   "execution_count": 122,
   "metadata": {},
   "outputs": [
    {
     "data": {
      "image/png": "[encoded data removed]"
     },
     "metadata": {},
     "output_type": "display_data"
    },
    {
     "data": {
      "image/png": "[encoded data removed]"
     },
     "metadata": {},
     "output_type": "display_data"
    },
    {
     "data": {
      "image/png": "[encoded data removed]"
     },
     "metadata": {},
     "output_type": "display_data"
    },
    {
     "data": {
      "image/png": "[encoded data removed]"
     },
     "metadata": {},
     "output_type": "display_data"
    },
    {
     "data": {
      "text/plain": [
       "[None, None, None, None]"
      ]
     },
     "execution_count": 122,
     "metadata": {},
     "output_type": "execute_result"
    }
   ],
   "source": [
    "[f._repr_png_() for f in future]"
   ]
  },
  {
   "cell_type": "code",
   "execution_count": 123,
   "metadata": {},
   "outputs": [],
   "source": [
    "def benchmark():\n",
    "    import time\n",
    "    start = time.time()\n",
    "    subboards = board.get_possible_subboards()\n",
    "    for subboard in subboards:\n",
    "        next_subboards = subboard.get_possible_subboards()\n",
    "        for next_subboard in next_subboards:\n",
    "            next_subboard.get_possible_subboards()\n",
    "    end = time.time()\n",
    "    duration_ms = (end - start) * 1000\n",
    "    print(duration_ms)"
   ]
  },
  {
   "cell_type": "code",
   "execution_count": 124,
   "metadata": {},
   "outputs": [
    {
     "name": "stdout",
     "output_type": "stream",
     "text": [
      "921.8966960906982\n",
      " "
     ]
    },
    {
     "name": "stdout",
     "output_type": "stream",
     "text": [
      "         1589938 function calls in 0.891 seconds\n",
      "\n",
      "   Ordered by: internal time\n",
      "\n",
      "   ncalls  tottime  percall  cumtime  percall filename:lineno(function)\n",
      "   164439    0.266    0.000    0.352    0.000 board.py:9(__init__)\n",
      "   109626    0.198    0.000    0.517    0.000 board.py:62(copy)\n",
      "   399651    0.087    0.000    0.087    0.000 board.py:25(set_snake)\n",
      "   114276    0.080    0.000    0.130    0.000 board.py:48(clear_snake_info)\n",
      "      453    0.062    0.000    0.164    0.000 board.py:116(create_cells)\n",
      "   274065    0.044    0.000    0.044    0.000 board.py:19(set_food)\n",
      "   274065    0.042    0.000    0.042    0.000 board.py:22(set_hazard)\n",
      "      453    0.028    0.000    0.323    0.001 board.py:207(<listcomp>)\n",
      "   114276    0.025    0.000    0.025    0.000 board.py:32(set_closest_snakes)\n",
      "     2090    0.016    0.000    0.016    0.000 board.py:143(clear_snake)\n",
      "   115968    0.010    0.000    0.010    0.000 {method 'append' of 'list' objects}\n",
      "     2090    0.005    0.000    0.024    0.000 board.py:133(place_snake)\n",
      "      453    0.005    0.000    0.896    0.002 board.py:202(copy)\n",
      "     8296    0.004    0.000    0.004    0.000 board.py:108(get_cell)\n",
      "      592    0.003    0.000    0.006    0.000 snake.py:146(<listcomp>)\n",
      "      906    0.003    0.000    0.023    0.000 snake.py:137(copy_to_board)\n",
      "      453    0.003    0.000    0.381    0.001 board.py:206(<listcomp>)\n",
      "      117    0.002    0.000    0.921    0.008 board.py:155(get_possible_subboards)\n",
      "      592    0.002    0.000    0.009    0.000 snake.py:48(move)\n",
      "      404    0.002    0.000    0.007    0.000 snake.py:70(kill)\n",
      "      906    0.001    0.000    0.013    0.000 board.py:127(add_snake)\n",
      "      592    0.001    0.000    0.013    0.000 board.py:149(place_snakes)\n",
      "      592    0.001    0.000    0.022    0.000 board.py:198(move_snake)\n",
      "      906    0.000    0.000    0.013    0.000 snake.py:31(place_on_board)\n",
      "      906    0.000    0.000    0.000    0.000 snake.py:23(__init__)\n",
      "      453    0.000    0.000    0.165    0.000 board.py:77(__init__)\n",
      "      592    0.000    0.000    0.000    0.000 board.py:192(get_snake)\n",
      "        1    0.000    0.000    0.921    0.921 3624261310.py:1(benchmark)\n",
      "      572    0.000    0.000    0.000    0.000 {built-in method builtins.len}\n",
      "      444    0.000    0.000    0.000    0.000 board.py:45(is_occupied)\n",
      "      117    0.000    0.000    0.000    0.000 board.py:159(<listcomp>)\n",
      "      188    0.000    0.000    0.000    0.000 {method 'insert' of 'list' objects}\n",
      "      188    0.000    0.000    0.000    0.000 board.py:39(is_food)\n",
      "        1    0.000    0.000    0.000    0.000 socket.py:613(send)\n",
      "        1    0.000    0.000    0.921    0.921 {built-in method builtins.exec}\n",
      "      188    0.000    0.000    0.000    0.000 {method 'pop' of 'list' objects}\n",
      "        2    0.000    0.000    0.000    0.000 iostream.py:546(write)\n",
      "        1    0.000    0.000    0.000    0.000 iostream.py:205(schedule)\n",
      "        1    0.000    0.000    0.000    0.000 {built-in method builtins.print}\n",
      "        1    0.000    0.000    0.000    0.000 threading.py:1185(is_alive)\n",
      "        2    0.000    0.000    0.000    0.000 iostream.py:447(_is_master_process)\n",
      "        1    0.000    0.000    0.921    0.921 <string>:1(<module>)\n",
      "        2    0.000    0.000    0.000    0.000 iostream.py:468(_schedule_flush)\n",
      "        1    0.000    0.000    0.000    0.000 threading.py:1118(_wait_for_tstate_lock)\n",
      "        1    0.000    0.000    0.000    0.000 iostream.py:91(_event_pipe)\n",
      "        1    0.000    0.000    0.000    0.000 {method 'acquire' of '_thread.lock' objects}\n",
      "        2    0.000    0.000    0.000    0.000 {built-in method time.time}\n",
      "        2    0.000    0.000    0.000    0.000 {built-in method nt.getpid}\n",
      "        2    0.000    0.000    0.000    0.000 {method 'write' of '_io.StringIO' objects}\n",
      "        1    0.000    0.000    0.000    0.000 {method 'disable' of '_lsprof.Profiler' objects}\n",
      "        1    0.000    0.000    0.000    0.000 threading.py:568(is_set)\n",
      "        1    0.000    0.000    0.000    0.000 {method 'append' of 'collections.deque' objects}\n",
      "        2    0.000    0.000    0.000    0.000 {method '__exit__' of '_thread.RLock' objects}\n",
      "        2    0.000    0.000    0.000    0.000 {built-in method builtins.isinstance}"
     ]
    }
   ],
   "source": [
    "%prun benchmark()"
   ]
  }
 ],
 "metadata": {
  "kernelspec": {
   "display_name": "battlesnakes",
   "language": "python",
   "name": "python3"
  },
  "language_info": {
   "codemirror_mode": {
    "name": "ipython",
    "version": 3
   },
   "file_extension": ".py",
   "mimetype": "text/x-python",
   "name": "python",
   "nbconvert_exporter": "python",
   "pygments_lexer": "ipython3",
   "version": "3.11.3"
  },
  "orig_nbformat": 4
 },
 "nbformat": 4,
 "nbformat_minor": 2
}
