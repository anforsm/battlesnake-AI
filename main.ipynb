{
 "cells": [
  {
   "cell_type": "code",
   "execution_count": 22,
   "metadata": {},
   "outputs": [],
   "source": [
    "from importlib import reload\n",
    "import board\n",
    "import snake\n",
    "reload(board)\n",
    "reload(snake)\n",
    "from board import GeneralBoard\n",
    "from snake import Snake"
   ]
  },
  {
   "cell_type": "code",
   "execution_count": 23,
   "metadata": {},
   "outputs": [
    {
     "data": {
      "image/png": "[encoded data removed]"
     },
     "metadata": {},
     "output_type": "display_data"
    },
    {
     "data": {
      "text/plain": [
       "<board.GeneralBoard at 0x117d79750>"
      ]
     },
     "execution_count": 23,
     "metadata": {},
     "output_type": "execute_result"
    }
   ],
   "source": [
    "sample_game_state = {\"game\": {\"id\": \"d76a05f5-e961-4523-807f-2d5e5825cd95\", \"ruleset\": {\"name\": \"standard\", \"version\": \"cli\", \"settings\": {\"foodSpawnChance\": 15, \"minimumFood\": 1, \"hazardDamagePerTurn\": 14, \"hazardMap\": \"\", \"hazardMapAuthor\": \"\", \"royale\": {\"shrinkEveryNTurns\": 25}, \"squad\": {\"allowBodyCollisions\": False, \"sharedElimination\": False, \"sharedHealth\": False, \"sharedLength\": False}}}, \"map\": \"standard\", \"timeout\": 500, \"source\": \"\"}, \"turn\": 7, \"board\": {\"height\": 11, \"width\": 11, \"snakes\": [{\"id\": \"f5397cbd-611f-47bc-96fd-7ca72e543bef\", \"name\": \"Team 1 Snake 1\", \"latency\": \"8\", \"health\": 100, \"body\": [{\"x\": 4, \"y\": 1}, {\"x\": 4, \"y\": 2}, {\"x\": 3, \"y\": 2}, {\"x\": 2, \"y\": 2}], \"head\": {\"x\": 4, \"y\": 1}, \"length\": 4, \"shout\": \"\", \"squad\": \"\", \"customizations\": {\"color\": \"#ff4e03\", \"head\": \"default\", \"tail\": \"default\"}}, {\"id\": \"8e15dfcc-fe37-4484-a946-62ff1430f6ac\", \"name\": \"Team 1 Snake 2\", \"latency\": \"8\", \"health\": 95, \"body\": [{\"x\": 5, \"y\": 8}, {\"x\": 4, \"y\": 8}, {\"x\": 3, \"y\": 8}, {\"x\": 2, \"y\": 8}], \"head\": {\"x\": 5, \"y\": 8}, \"length\": 4, \"shout\": \"\", \"squad\": \"\", \"customizations\": {\"color\": \"#ff4e03\", \"head\": \"default\", \"tail\": \"default\"}}], \"food\": [{\"x\": 5, \"y\": 5}, {\"x\": 10, \"y\": 10}], \"hazards\": []}, \"you\": {\"id\": \"f5397cbd-611f-47bc-96fd-7ca72e543bef\", \"name\": \"Team 1 Snake 1\", \"latency\": \"0\", \"health\": 100, \"body\": [{\"x\": 4, \"y\": 1}, {\"x\": 4, \"y\": 2}, {\"x\": 3, \"y\": 2}, {\"x\": 2, \"y\": 2}, {\"x\": 2, \"y\": 2}], \"head\": {\"x\": 4, \"y\": 1}, \"length\": 5, \"shout\": \"\", \"squad\": \"\", \"customizations\": {\"color\": \"#ff4e03\", \"head\": \"default\", \"tail\": \"default\"}}}\n",
    "board = GeneralBoard(11, 11)\n",
    "snake1 = Snake(sample_game_state[\"board\"][\"snakes\"][0][\"id\"])\n",
    "snake2 = Snake(sample_game_state[\"board\"][\"snakes\"][1][\"id\"])\n",
    "snake1.place_on_board(board)\n",
    "snake2.place_on_board(board)\n",
    "snake1.update_state(sample_game_state[\"board\"][\"snakes\"][0])\n",
    "snake2.update_state(sample_game_state[\"board\"][\"snakes\"][1])\n",
    "\n",
    "board"
   ]
  },
  {
   "cell_type": "code",
   "execution_count": 90,
   "metadata": {},
   "outputs": [
    {
     "data": {
      "text/plain": [
       "False"
      ]
     },
     "execution_count": 90,
     "metadata": {},
     "output_type": "execute_result"
    }
   ],
   "source": [
    "board.is_safe(-1, 10)"
   ]
  },
  {
   "cell_type": "code",
   "execution_count": 80,
   "metadata": {},
   "outputs": [
    {
     "name": "stdout",
     "output_type": "stream",
     "text": [
      "1.909017562866211\n"
     ]
    }
   ],
   "source": [
    "import time\n",
    "start = time.time()\n",
    "snake1.alternative_futures(\"up\")\n",
    "end = time.time()\n",
    "# print time in ms\n",
    "print((end - start) * 1000)\n"
   ]
  },
  {
   "cell_type": "code",
   "execution_count": 24,
   "metadata": {},
   "outputs": [
    {
     "name": "stdout",
     "output_type": "stream",
     "text": [
      " "
     ]
    },
    {
     "name": "stdout",
     "output_type": "stream",
     "text": [
      "         38134 function calls (38123 primitive calls) in 0.010 seconds\n",
      "\n",
      "   Ordered by: internal time\n",
      "\n",
      "   ncalls  tottime  percall  cumtime  percall filename:lineno(function)\n",
      "     3993    0.003    0.000    0.004    0.000 board.py:9(__init__)\n",
      "     2662    0.002    0.000    0.006    0.000 board.py:62(copy)\n",
      "     9427    0.001    0.000    0.001    0.000 board.py:25(set_snake)\n",
      "     2673    0.001    0.000    0.001    0.000 board.py:48(clear_snake_info)\n",
      "       11    0.001    0.000    0.002    0.000 board.py:116(create_cells)\n",
      "     6655    0.001    0.000    0.001    0.000 board.py:19(set_food)\n",
      "     6655    0.000    0.000    0.000    0.000 board.py:22(set_hazard)\n",
      "       11    0.000    0.000    0.004    0.000 board.py:207(<listcomp>)\n",
      "     2673    0.000    0.000    0.000    0.000 board.py:32(set_closest_snakes)\n",
      "       11    0.000    0.000    0.000    0.000 snake.py:48(move)\n",
      "     2832    0.000    0.000    0.000    0.000 {method 'append' of 'list' objects}\n",
      "       22    0.000    0.000    0.000    0.000 board.py:143(clear_snake)\n",
      "       11    0.000    0.000    0.010    0.001 board.py:202(copy)\n",
      "      187    0.000    0.000    0.000    0.000 board.py:108(get_cell)\n",
      "       22    0.000    0.000    0.000    0.000 snake.py:136(copy_to_board)\n",
      "       11    0.000    0.000    0.000    0.000 snake.py:115(get_free_moves)\n",
      "       11    0.000    0.000    0.004    0.000 board.py:206(<listcomp>)\n",
      "       22    0.000    0.000    0.000    0.000 board.py:133(place_snake)\n",
      "       22    0.000    0.000    0.000    0.000 snake.py:145(<listcomp>)\n",
      "     12/1    0.000    0.000    0.011    0.011 snake.py:88(alternative_futures)\n",
      "        1    0.000    0.000    0.011    0.011 {built-in method builtins.exec}\n",
      "       22    0.000    0.000    0.000    0.000 board.py:127(add_snake)\n",
      "       11    0.000    0.000    0.011    0.001 snake.py:125(simulate_move)\n",
      "       11    0.000    0.000    0.002    0.000 board.py:77(__init__)\n",
      "       22    0.000    0.000    0.000    0.000 snake.py:31(place_on_board)\n",
      "       22    0.000    0.000    0.000    0.000 snake.py:23(__init__)\n",
      "       53    0.000    0.000    0.000    0.000 board.py:45(is_occupied)\n",
      "        1    0.000    0.000    0.011    0.011 <string>:1(<module>)\n",
      "       11    0.000    0.000    0.000    0.000 board.py:192(get_snake)\n",
      "       11    0.000    0.000    0.000    0.000 {method 'insert' of 'list' objects}\n",
      "       23    0.000    0.000    0.000    0.000 {built-in method builtins.len}\n",
      "       11    0.000    0.000    0.000    0.000 board.py:39(is_food)\n",
      "       11    0.000    0.000    0.000    0.000 {method 'pop' of 'list' objects}\n",
      "        1    0.000    0.000    0.000    0.000 {method 'disable' of '_lsprof.Profiler' objects}"
     ]
    }
   ],
   "source": [
    "%prun snake1.alternative_futures(\"up\")"
   ]
  },
  {
   "cell_type": "code",
   "execution_count": 25,
   "metadata": {},
   "outputs": [],
   "source": [
    "future = snake1.alternative_futures(\"right\")"
   ]
  },
  {
   "cell_type": "code",
   "execution_count": 26,
   "metadata": {},
   "outputs": [
    {
     "data": {
      "image/png": "[encoded data removed]"
     },
     "metadata": {},
     "output_type": "display_data"
    },
    {
     "data": {
      "image/png": "[encoded data removed]"
     },
     "metadata": {},
     "output_type": "display_data"
    },
    {
     "data": {
      "image/png": "[encoded data removed]"
     },
     "metadata": {},
     "output_type": "display_data"
    },
    {
     "data": {
      "image/png": "[encoded data removed]"
     },
     "metadata": {},
     "output_type": "display_data"
    },
    {
     "data": {
      "image/png": "[encoded data removed]"
     },
     "metadata": {},
     "output_type": "display_data"
    },
    {
     "data": {
      "image/png": "[encoded data removed]"
     },
     "metadata": {},
     "output_type": "display_data"
    },
    {
     "data": {
      "image/png": "[encoded data removed]"
     },
     "metadata": {},
     "output_type": "display_data"
    },
    {
     "data": {
      "image/png": "[encoded data removed]"
     },
     "metadata": {},
     "output_type": "display_data"
    },
    {
     "data": {
      "image/png": "[encoded data removed]"
     },
     "metadata": {},
     "output_type": "display_data"
    },
    {
     "data": {
      "image/png": "[encoded data removed]"
     },
     "metadata": {},
     "output_type": "display_data"
    },
    {
     "data": {
      "image/png": "[encoded data removed]"
     },
     "metadata": {},
     "output_type": "display_data"
    },
    {
     "data": {
      "text/plain": [
       "[None, None, None, None, None, None, None, None, None, None, None]"
      ]
     },
     "execution_count": 26,
     "metadata": {},
     "output_type": "execute_result"
    }
   ],
   "source": [
    "[f._repr_png_() for f in future]"
   ]
  },
  {
   "cell_type": "code",
   "execution_count": 27,
   "metadata": {},
   "outputs": [],
   "source": [
    "def benchmark():\n",
    "    import time\n",
    "    start = time.time()\n",
    "    subboards = board.get_possible_subboards()\n",
    "    for subboard in subboards:\n",
    "        next_subboards = subboard.get_possible_subboards()\n",
    "        for next_subboard in next_subboards:\n",
    "            next_subboard.get_possible_subboards()\n",
    "    end = time.time()\n",
    "    duration_ms = (end - start) * 1000\n",
    "    print(duration_ms)"
   ]
  },
  {
   "cell_type": "code",
   "execution_count": 28,
   "metadata": {},
   "outputs": [
    {
     "name": "stdout",
     "output_type": "stream",
     "text": [
      "1429.4700622558594\n",
      " "
     ]
    },
    {
     "name": "stdout",
     "output_type": "stream",
     "text": [
      "         5379658 function calls in 1.385 seconds\n",
      "\n",
      "   Ordered by: internal time\n",
      "\n",
      "   ncalls  tottime  percall  cumtime  percall filename:lineno(function)\n",
      "   560835    0.447    0.000    0.585    0.000 board.py:9(__init__)\n",
      "   373890    0.300    0.000    0.832    0.000 board.py:62(copy)\n",
      "  1340855    0.133    0.000    0.133    0.000 board.py:25(set_snake)\n",
      "   379578    0.117    0.000    0.188    0.000 board.py:48(clear_snake_info)\n",
      "     1545    0.089    0.000    0.246    0.000 board.py:116(create_cells)\n",
      "   934725    0.066    0.000    0.066    0.000 board.py:19(set_food)\n",
      "   934725    0.066    0.000    0.066    0.000 board.py:22(set_hazard)\n",
      "     1545    0.042    0.000    0.502    0.000 board.py:207(<listcomp>)\n",
      "   379578    0.034    0.000    0.034    0.000 board.py:32(set_closest_snakes)\n",
      "     8466    0.031    0.000    0.031    0.000 board.py:143(clear_snake)\n",
      "   395520    0.015    0.000    0.015    0.000 {method 'append' of 'list' objects}\n",
      "     1545    0.008    0.000    1.390    0.001 board.py:202(copy)\n",
      "     8466    0.007    0.000    0.040    0.000 board.py:133(place_snake)\n",
      "     3090    0.005    0.000    0.029    0.000 snake.py:136(copy_to_board)\n",
      "    18816    0.004    0.000    0.004    0.000 board.py:108(get_cell)\n",
      "     2688    0.004    0.000    0.009    0.000 snake.py:48(move)\n",
      "     1545    0.004    0.000    0.605    0.000 board.py:206(<listcomp>)\n",
      "      186    0.003    0.000    1.429    0.008 board.py:155(get_possible_subboards)\n",
      "     2688    0.003    0.000    0.005    0.000 snake.py:145(<listcomp>)\n",
      "     3090    0.002    0.000    0.017    0.000 board.py:127(add_snake)\n",
      "     2688    0.001    0.000    0.026    0.000 board.py:149(place_snakes)\n",
      "     2688    0.001    0.000    0.036    0.000 board.py:198(move_snake)\n",
      "     1000    0.001    0.000    0.003    0.000 snake.py:70(kill)\n",
      "     3090    0.001    0.000    0.018    0.000 snake.py:31(place_on_board)\n",
      "     3090    0.001    0.000    0.001    0.000 snake.py:23(__init__)\n",
      "     1545    0.001    0.000    0.246    0.000 board.py:77(__init__)\n",
      "     2688    0.001    0.000    0.001    0.000 board.py:192(get_snake)\n",
      "     2481    0.000    0.000    0.000    0.000 board.py:45(is_occupied)\n",
      "     1688    0.000    0.000    0.000    0.000 board.py:39(is_food)\n",
      "     1688    0.000    0.000    0.000    0.000 {method 'insert' of 'list' objects}\n",
      "        1    0.000    0.000    1.430    1.430 3624261310.py:1(benchmark)\n",
      "     1733    0.000    0.000    0.000    0.000 {built-in method builtins.len}\n",
      "     1688    0.000    0.000    0.000    0.000 {method 'pop' of 'list' objects}\n",
      "      186    0.000    0.000    0.000    0.000 board.py:159(<listcomp>)\n",
      "        1    0.000    0.000    0.000    0.000 socket.py:613(send)\n",
      "        1    0.000    0.000    1.430    1.430 {built-in method builtins.exec}\n",
      "        2    0.000    0.000    0.000    0.000 iostream.py:572(write)\n",
      "        1    0.000    0.000    0.000    0.000 {built-in method builtins.print}\n",
      "        1    0.000    0.000    0.000    0.000 iostream.py:205(schedule)\n",
      "        2    0.000    0.000    0.000    0.000 iostream.py:467(_is_master_process)\n",
      "        1    0.000    0.000    1.430    1.430 <string>:1(<module>)\n",
      "        1    0.000    0.000    0.000    0.000 threading.py:1185(is_alive)\n",
      "        2    0.000    0.000    0.000    0.000 iostream.py:494(_schedule_flush)\n",
      "        1    0.000    0.000    0.000    0.000 threading.py:1118(_wait_for_tstate_lock)\n",
      "        1    0.000    0.000    0.000    0.000 iostream.py:91(_event_pipe)\n",
      "        2    0.000    0.000    0.000    0.000 {built-in method time.time}\n",
      "        1    0.000    0.000    0.000    0.000 {method 'acquire' of '_thread.lock' objects}\n",
      "        2    0.000    0.000    0.000    0.000 {method 'write' of '_io.StringIO' objects}\n",
      "        2    0.000    0.000    0.000    0.000 {built-in method posix.getpid}\n",
      "        2    0.000    0.000    0.000    0.000 {method '__exit__' of '_thread.RLock' objects}\n",
      "        2    0.000    0.000    0.000    0.000 {built-in method builtins.isinstance}\n",
      "        1    0.000    0.000    0.000    0.000 {method 'disable' of '_lsprof.Profiler' objects}\n",
      "        1    0.000    0.000    0.000    0.000 {method 'append' of 'collections.deque' objects}\n",
      "        1    0.000    0.000    0.000    0.000 threading.py:568(is_set)"
     ]
    }
   ],
   "source": [
    "%prun benchmark()"
   ]
  }
 ],
 "metadata": {
  "kernelspec": {
   "display_name": "battlesnakes",
   "language": "python",
   "name": "python3"
  },
  "language_info": {
   "codemirror_mode": {
    "name": "ipython",
    "version": 3
   },
   "file_extension": ".py",
   "mimetype": "text/x-python",
   "name": "python",
   "nbconvert_exporter": "python",
   "pygments_lexer": "ipython3",
   "version": "3.11.3"
  },
  "orig_nbformat": 4
 },
 "nbformat": 4,
 "nbformat_minor": 2
}
