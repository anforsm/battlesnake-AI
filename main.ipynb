{
 "cells": [
  {
   "cell_type": "code",
   "execution_count": 78,
   "metadata": {},
   "outputs": [],
   "source": [
    "from importlib import reload\n",
    "import os\n",
    "import json\n",
    "import board\n",
    "import snake\n",
    "reload(board)\n",
    "reload(snake)\n",
    "from board import GeneralBoard\n",
    "from snake import Snake, ControllableSnake"
   ]
  },
  {
   "cell_type": "code",
   "execution_count": 79,
   "metadata": {},
   "outputs": [
    {
     "name": "stdout",
     "output_type": "stream",
     "text": [
      "4\n"
     ]
    },
    {
     "data": {
      "image/png": "[encoded data removed]"
     },
     "metadata": {},
     "output_type": "display_data"
    },
    {
     "data": {
      "text/plain": [
       "<board.GeneralBoard at 0x1ef7c2faa10>"
      ]
     },
     "execution_count": 79,
     "metadata": {},
     "output_type": "execute_result"
    }
   ],
   "source": [
    "#sample_game_state = {\"game\": {\"id\": \"d76a05f5-e961-4523-807f-2d5e5825cd95\", \"ruleset\": {\"name\": \"standard\", \"version\": \"cli\", \"settings\": {\"foodSpawnChance\": 15, \"minimumFood\": 1, \"hazardDamagePerTurn\": 14, \"hazardMap\": \"\", \"hazardMapAuthor\": \"\", \"royale\": {\"shrinkEveryNTurns\": 25}, \"squad\": {\"allowBodyCollisions\": False, \"sharedElimination\": False, \"sharedHealth\": False, \"sharedLength\": False}}}, \"map\": \"standard\", \"timeout\": 500, \"source\": \"\"}, \"turn\": 7, \"board\": {\"height\": 11, \"width\": 11, \"snakes\": [{\"id\": \"f5397cbd-611f-47bc-96fd-7ca72e543bef\", \"name\": \"Team 1 Snake 1\", \"latency\": \"8\", \"health\": 100, \"body\": [{\"x\": 4, \"y\": 1}, {\"x\": 4, \"y\": 2}, {\"x\": 3, \"y\": 2}, {\"x\": 2, \"y\": 2}], \"head\": {\"x\": 4, \"y\": 1}, \"length\": 4, \"shout\": \"\", \"squad\": \"\", \"customizations\": {\"color\": \"#ff4e03\", \"head\": \"default\", \"tail\": \"default\"}}, {\"id\": \"8e15dfcc-fe37-4484-a946-62ff1430f6ac\", \"name\": \"Team 1 Snake 2\", \"latency\": \"8\", \"health\": 95, \"body\": [{\"x\": 5, \"y\": 8}, {\"x\": 4, \"y\": 8}, {\"x\": 3, \"y\": 8}, {\"x\": 2, \"y\": 8}], \"head\": {\"x\": 5, \"y\": 8}, \"length\": 4, \"shout\": \"\", \"squad\": \"\", \"customizations\": {\"color\": \"#ff4e03\", \"head\": \"default\", \"tail\": \"default\"}}], \"food\": [{\"x\": 5, \"y\": 5}, {\"x\": 10, \"y\": 10}], \"hazards\": []}, \"you\": {\"id\": \"f5397cbd-611f-47bc-96fd-7ca72e543bef\", \"name\": \"Team 1 Snake 1\", \"latency\": \"0\", \"health\": 100, \"body\": [{\"x\": 4, \"y\": 1}, {\"x\": 4, \"y\": 2}, {\"x\": 3, \"y\": 2}, {\"x\": 2, \"y\": 2}, {\"x\": 2, \"y\": 2}], \"head\": {\"x\": 4, \"y\": 1}, \"length\": 5, \"shout\": \"\", \"squad\": \"\", \"customizations\": {\"color\": \"#ff4e03\", \"head\": \"default\", \"tail\": \"default\"}}}\n",
    "#sample_game_state = {\"game\": {\"id\": \"c14280c0-d8c9-4cae-b141-3cd2f8ddc9ba\", \"ruleset\": {\"name\": \"standard\", \"version\": \"cli\", \"settings\": {\"foodSpawnChance\": 15, \"minimumFood\": 1, \"hazardDamagePerTurn\": 14, \"hazardMap\": \"\", \"hazardMapAuthor\": \"\", \"royale\": {\"shrinkEveryNTurns\": 25}, \"squad\": {\"allowBodyCollisions\": False, \"sharedElimination\": False, \"sharedHealth\": False, \"sharedLength\": False}}}, \"map\": \"standard\", \"timeout\": 500, \"source\": \"\"}, \"turn\": 62, \"board\": {\"height\": 11, \"width\": 11, \"snakes\": [{\"id\": \"9484f690-7815-4b8a-ad76-b85d4be4bfa2\", \"name\": \"Team 1 Snake 1\", \"latency\": \"20\", \"health\": 88, \"body\": [{\"x\": 0, \"y\": 2}, {\"x\": 1, \"y\": 2}, {\"x\": 1, \"y\": 3}, {\"x\": 1, \"y\": 4}, {\"x\": 1, \"y\": 5}, {\"x\": 1, \"y\": 6}, {\"x\": 1, \"y\": 7}, {\"x\": 1, \"y\": 8}, {\"x\": 1, \"y\": 9}, {\"x\": 2, \"y\": 9}, {\"x\": 3, \"y\": 9}, {\"x\": 4, \"y\": 9}], \"head\": {\"x\": 0, \"y\": 2}, \"length\": 12, \"shout\": \"\", \"squad\": \"\", \"customizations\": {\"color\": \"#ff4e03\", \"head\": \"tiger-king\", \"tail\": \"tiger-tail\"}}, {\"id\": \"3adfaa85-ba3c-4396-bdf9-0eed7adba6ef\", \"name\": \"Team 1 Snake 2\", \"latency\": \"19\", \"health\": 96, \"body\": [{\"x\": 2, \"y\": 0}, {\"x\": 2, \"y\": 1}, {\"x\": 3, \"y\": 1}, {\"x\": 4, \"y\": 1}, {\"x\": 5, \"y\": 1}, {\"x\": 5, \"y\": 2}, {\"x\": 4, \"y\": 2}, {\"x\": 3, \"y\": 2}, {\"x\": 3, \"y\": 3}, {\"x\": 4, \"y\": 3}], \"head\": {\"x\": 2, \"y\": 0}, \"length\": 10, \"shout\": \"\", \"squad\": \"\", \"customizations\": {\"color\": \"#ff4e03\", \"head\": \"tiger-king\", \"tail\": \"tiger-tail\"}}], \"food\": [{\"x\": 1, \"y\": 0}, {\"x\": 4, \"y\": 5}, {\"x\": 9, \"y\": 4}], \"hazards\": []}, \"you\": {\"id\": \"3adfaa85-ba3c-4396-bdf9-0eed7adba6ef\", \"name\": \"Team 1 Snake 2\", \"latency\": \"0\", \"health\": 96, \"body\": [{\"x\": 2, \"y\": 0}, {\"x\": 2, \"y\": 1}, {\"x\": 3, \"y\": 1}, {\"x\": 4, \"y\": 1}, {\"x\": 5, \"y\": 1}, {\"x\": 5, \"y\": 2}, {\"x\": 4, \"y\": 2}, {\"x\": 3, \"y\": 2}, {\"x\": 3, \"y\": 3}, {\"x\": 4, \"y\": 3}], \"head\": {\"x\": 2, \"y\": 0}, \"length\": 10, \"shout\": \"\", \"squad\": \"\", \"customizations\": {\"color\": \"#ff4e03\", \"head\": \"tiger-king\", \"tail\": \"tiger-tail\"}}}\n",
    "path = \"./game_states/2023-05-20_21 (b91)/46.json\"\n",
    "f = open(path, \"r\")\n",
    "s = f.readline()\n",
    "sample_game_state = json.loads(s)\n",
    "print(len(sample_game_state[\"board\"][\"snakes\"]))\n",
    "board = GeneralBoard(11, 11)\n",
    "snake1 = Snake(sample_game_state[\"board\"][\"snakes\"][0][\"id\"])\n",
    "snake2 = Snake(sample_game_state[\"board\"][\"snakes\"][1][\"id\"])\n",
    "snake3 = Snake(sample_game_state[\"board\"][\"snakes\"][2][\"id\"])\n",
    "snake4 = Snake(sample_game_state[\"board\"][\"snakes\"][3][\"id\"])\n",
    "snake1.board = board\n",
    "snake2.board = board\n",
    "snake3.board = board\n",
    "snake4.board = board\n",
    "board.add_snake(snake1, place=False)\n",
    "board.add_snake(snake2, place=False)\n",
    "board.add_snake(snake3, place=False)\n",
    "board.add_snake(snake4, place=False)\n",
    "snake1.update_state(sample_game_state[\"board\"][\"snakes\"][0])\n",
    "snake2.update_state(sample_game_state[\"board\"][\"snakes\"][1])\n",
    "snake3.update_state(sample_game_state[\"board\"][\"snakes\"][2])\n",
    "snake4.update_state(sample_game_state[\"board\"][\"snakes\"][3])\n",
    "snake1.place_on_board(board, add=False)\n",
    "snake2.place_on_board(board, add=False)\n",
    "snake3.place_on_board(board, add=False)\n",
    "snake4.place_on_board(board, add=False)\n",
    "\n",
    "board"
   ]
  },
  {
   "cell_type": "code",
   "execution_count": 80,
   "metadata": {},
   "outputs": [
    {
     "data": {
      "image/png": "[encoded data removed]"
     },
     "metadata": {},
     "output_type": "display_data"
    },
    {
     "data": {
      "text/plain": [
       "<board.GeneralBoard at 0x1ef7c3efb50>"
      ]
     },
     "execution_count": 80,
     "metadata": {},
     "output_type": "execute_result"
    }
   ],
   "source": [
    "snake2.simulate_move(\"left\").simulate_move(\"down\").board"
   ]
  },
  {
   "cell_type": "code",
   "execution_count": 65,
   "metadata": {},
   "outputs": [
    {
     "data": {
      "text/plain": [
       "Cell(0, 7)"
      ]
     },
     "execution_count": 65,
     "metadata": {},
     "output_type": "execute_result"
    }
   ],
   "source": [
    "snake2.tail\n",
    "snake2.body[-1]"
   ]
  },
  {
   "cell_type": "code",
   "execution_count": 66,
   "metadata": {},
   "outputs": [
    {
     "name": "stdout",
     "output_type": "stream",
     "text": [
      "old tail Cell(0, 7)\n",
      "old tail is occupied? False\n",
      "new head Cell(0, 9)\n",
      "new head is occupied False\n",
      "new head is none False\n"
     ]
    },
    {
     "data": {
      "image/png": "[encoded data removed]"
     },
     "metadata": {},
     "output_type": "display_data"
    },
    {
     "data": {
      "text/plain": [
       "<board.GeneralBoard at 0x1ef7c218050>"
      ]
     },
     "execution_count": 66,
     "metadata": {},
     "output_type": "execute_result"
    }
   ],
   "source": [
    "snake2.move(\"left\")\n",
    "board"
   ]
  },
  {
   "cell_type": "code",
   "execution_count": 67,
   "metadata": {},
   "outputs": [
    {
     "name": "stdout",
     "output_type": "stream",
     "text": [
      "old tail Cell(0, 8)\n",
      "old tail is occupied? False\n",
      "new head Cell(0, 8)\n",
      "new head is occupied False\n",
      "new head is none False\n"
     ]
    },
    {
     "data": {
      "image/png": "[encoded data removed]"
     },
     "metadata": {},
     "output_type": "display_data"
    },
    {
     "data": {
      "text/plain": [
       "<board.GeneralBoard at 0x1ef7c218050>"
      ]
     },
     "execution_count": 67,
     "metadata": {},
     "output_type": "execute_result"
    }
   ],
   "source": [
    "snake2.move(\"down\")\n",
    "board"
   ]
  },
  {
   "cell_type": "code",
   "execution_count": 50,
   "metadata": {},
   "outputs": [
    {
     "data": {
      "image/png": "[encoded data removed]"
     },
     "metadata": {},
     "output_type": "display_data"
    },
    {
     "data": {
      "text/plain": [
       "<board.GeneralBoard at 0x1ef7c12a710>"
      ]
     },
     "execution_count": 50,
     "metadata": {},
     "output_type": "execute_result"
    }
   ],
   "source": [
    "snake2.board"
   ]
  },
  {
   "cell_type": "code",
   "execution_count": 43,
   "metadata": {},
   "outputs": [
    {
     "name": "stdout",
     "output_type": "stream",
     "text": [
      "Cell(0, 7)\n",
      "Cell(0, 7)\n",
      "Cell(0, 7)\n",
      "None\n",
      "False\n",
      "False\n"
     ]
    },
    {
     "data": {
      "image/png": "[encoded data removed]"
     },
     "metadata": {},
     "output_type": "display_data"
    },
    {
     "data": {
      "text/plain": [
       "<board.GeneralBoard at 0x1ef7c04ff90>"
      ]
     },
     "execution_count": 43,
     "metadata": {},
     "output_type": "execute_result"
    }
   ],
   "source": [
    "new_board = snake2.simulate_move(\"left\").board\n",
    "new_board"
   ]
  },
  {
   "cell_type": "code",
   "execution_count": 39,
   "metadata": {},
   "outputs": [
    {
     "name": "stdout",
     "output_type": "stream",
     "text": [
      "Cell(0, 7)\n",
      "Cell(0, 7)\n",
      "Cell(0, 7)\n",
      "None\n",
      "False\n",
      "False\n"
     ]
    },
    {
     "data": {
      "image/png": "[encoded data removed]"
     },
     "metadata": {},
     "output_type": "display_data"
    },
    {
     "data": {
      "text/plain": [
       "<board.GeneralBoard at 0x1ef7c1c0410>"
      ]
     },
     "execution_count": 39,
     "metadata": {},
     "output_type": "execute_result"
    }
   ],
   "source": [
    "snake2.simulate_move(\"up\").board"
   ]
  },
  {
   "cell_type": "code",
   "execution_count": 40,
   "metadata": {},
   "outputs": [
    {
     "name": "stdout",
     "output_type": "stream",
     "text": [
      "Cell(0, 7)\n",
      "Cell(0, 7)\n",
      "Cell(0, 7)\n",
      "None\n",
      "False\n",
      "False\n"
     ]
    },
    {
     "data": {
      "image/png": "[encoded data removed]"
     },
     "metadata": {},
     "output_type": "display_data"
    },
    {
     "data": {
      "text/plain": [
       "<board.GeneralBoard at 0x1ef7c19a610>"
      ]
     },
     "execution_count": 40,
     "metadata": {},
     "output_type": "execute_result"
    }
   ],
   "source": [
    "snake2.move(\"left\")\n",
    "snake2.board"
   ]
  },
  {
   "cell_type": "code",
   "execution_count": 3,
   "metadata": {},
   "outputs": [
    {
     "name": "stdout",
     "output_type": "stream",
     "text": [
      "11\n"
     ]
    },
    {
     "data": {
      "image/png": "[encoded data removed]"
     },
     "metadata": {},
     "output_type": "display_data"
    },
    {
     "data": {
      "image/png": "[encoded data removed]"
     },
     "metadata": {},
     "output_type": "display_data"
    },
    {
     "data": {
      "image/png": "[encoded data removed]"
     },
     "metadata": {},
     "output_type": "display_data"
    },
    {
     "data": {
      "image/png": "[encoded data removed]"
     },
     "metadata": {},
     "output_type": "display_data"
    },
    {
     "data": {
      "image/png": "[encoded data removed]"
     },
     "metadata": {},
     "output_type": "display_data"
    },
    {
     "data": {
      "image/png": "[encoded data removed]"
     },
     "metadata": {},
     "output_type": "display_data"
    },
    {
     "data": {
      "image/png": "[encoded data removed]"
     },
     "metadata": {},
     "output_type": "display_data"
    },
    {
     "data": {
      "image/png": "[encoded data removed]"
     },
     "metadata": {},
     "output_type": "display_data"
    },
    {
     "data": {
      "image/png": "[encoded data removed]"
     },
     "metadata": {},
     "output_type": "display_data"
    },
    {
     "data": {
      "image/png": "[encoded data removed]"
     },
     "metadata": {},
     "output_type": "display_data"
    },
    {
     "data": {
      "image/png": "[encoded data removed]"
     },
     "metadata": {},
     "output_type": "display_data"
    },
    {
     "data": {
      "text/plain": [
       "[None, None, None, None, None, None, None, None, None, None, None]"
      ]
     },
     "execution_count": 3,
     "metadata": {},
     "output_type": "execute_result"
    }
   ],
   "source": [
    "futures = snake2.alternative_futures(\"down\")\n",
    "print(len(futures))\n",
    "[f._repr_png_() for f in futures]"
   ]
  },
  {
   "cell_type": "code",
   "execution_count": 4,
   "metadata": {},
   "outputs": [],
   "source": [
    "future = snake1.alternative_futures(\"up\")"
   ]
  },
  {
   "cell_type": "code",
   "execution_count": 5,
   "metadata": {},
   "outputs": [
    {
     "data": {
      "text/plain": [
       "[]"
      ]
     },
     "execution_count": 5,
     "metadata": {},
     "output_type": "execute_result"
    }
   ],
   "source": [
    "[f._repr_png_() for f in future]"
   ]
  },
  {
   "cell_type": "code",
   "execution_count": 6,
   "metadata": {},
   "outputs": [],
   "source": [
    "def benchmark():\n",
    "    import time\n",
    "    start = time.time()\n",
    "    subboards = board.get_possible_subboards()\n",
    "    for subboard in subboards:\n",
    "        next_subboards = subboard.get_possible_subboards()\n",
    "        for next_subboard in next_subboards:\n",
    "            next_subboard.get_possible_subboards()\n",
    "    end = time.time()\n",
    "    duration_ms = (end - start) * 1000\n",
    "    print(duration_ms)"
   ]
  },
  {
   "cell_type": "code",
   "execution_count": 7,
   "metadata": {},
   "outputs": [
    {
     "name": "stdout",
     "output_type": "stream",
     "text": [
      "399.56045150756836\n",
      " "
     ]
    },
    {
     "name": "stdout",
     "output_type": "stream",
     "text": [
      "         674414 function calls in 0.398 seconds\n",
      "\n",
      "   Ordered by: internal time\n",
      "\n",
      "   ncalls  tottime  percall  cumtime  percall filename:lineno(function)\n",
      "    68244    0.122    0.000    0.159    0.000 board.py:9(__init__)\n",
      "    34122    0.066    0.000    0.182    0.000 board.py:67(copy)\n",
      "      282    0.039    0.000    0.106    0.000 board.py:135(create_cells)\n",
      "   151956    0.034    0.000    0.034    0.000 board.py:26(set_snake)\n",
      "    40923    0.028    0.000    0.046    0.000 board.py:52(clear_snake_info)\n",
      "     3102    0.018    0.000    0.238    0.000 board.py:225(<listcomp>)\n",
      "   102366    0.017    0.000    0.017    0.000 board.py:20(set_food)\n",
      "   102366    0.016    0.000    0.016    0.000 board.py:23(set_hazard)\n",
      "     1228    0.014    0.000    0.020    0.000 board.py:162(clear_snake)\n",
      "      282    0.011    0.000    0.376    0.001 board.py:221(copy)\n",
      "   106314    0.009    0.000    0.009    0.000 {method 'append' of 'list' objects}\n",
      "    40923    0.009    0.000    0.009    0.000 board.py:33(set_closest_snakes)\n",
      "     1228    0.004    0.000    0.025    0.000 board.py:152(place_snake)\n",
      "     5784    0.003    0.000    0.003    0.000 board.py:127(get_cell)\n",
      "      332    0.002    0.000    0.005    0.000 snake.py:155(<listcomp>)\n",
      "     9600    0.002    0.000    0.002    0.000 snake.py:143(__eq__)\n",
      "      564    0.002    0.000    0.016    0.000 snake.py:146(copy_to_board)\n",
      "       87    0.001    0.000    0.400    0.005 board.py:174(get_possible_subboards)\n",
      "      332    0.001    0.000    0.006    0.000 snake.py:48(move)\n",
      "      203    0.001    0.000    0.004    0.000 snake.py:72(kill)\n",
      "      564    0.001    0.000    0.009    0.000 board.py:146(add_snake)\n",
      "      564    0.000    0.000    0.010    0.000 snake.py:31(place_on_board)\n",
      "      564    0.000    0.000    0.000    0.000 snake.py:23(__init__)\n",
      "      332    0.000    0.000    0.016    0.000 board.py:168(place_snakes)\n",
      "      332    0.000    0.000    0.022    0.000 board.py:217(move_snake)\n",
      "      282    0.000    0.000    0.106    0.000 board.py:83(__init__)\n",
      "      332    0.000    0.000    0.000    0.000 board.py:211(get_snake)\n",
      "        1    0.000    0.000    0.400    0.400 3624261310.py:1(benchmark)\n",
      "       87    0.000    0.000    0.000    0.000 board.py:178(<listcomp>)\n",
      "      332    0.000    0.000    0.000    0.000 board.py:46(is_occupied)\n",
      "      371    0.000    0.000    0.000    0.000 {built-in method builtins.len}\n",
      "        1    0.000    0.000    0.000    0.000 socket.py:613(send)\n",
      "      129    0.000    0.000    0.000    0.000 {method 'insert' of 'list' objects}\n",
      "        1    0.000    0.000    0.400    0.400 {built-in method builtins.exec}\n",
      "      129    0.000    0.000    0.000    0.000 board.py:40(is_food)\n",
      "        2    0.000    0.000    0.000    0.000 iostream.py:546(write)\n",
      "      129    0.000    0.000    0.000    0.000 {method 'pop' of 'list' objects}\n",
      "        1    0.000    0.000    0.000    0.000 iostream.py:205(schedule)\n",
      "        1    0.000    0.000    0.000    0.000 {built-in method builtins.print}\n",
      "        1    0.000    0.000    0.000    0.000 threading.py:1185(is_alive)\n",
      "        1    0.000    0.000    0.400    0.400 <string>:1(<module>)\n",
      "        2    0.000    0.000    0.000    0.000 iostream.py:468(_schedule_flush)\n",
      "        2    0.000    0.000    0.000    0.000 iostream.py:447(_is_master_process)\n",
      "        1    0.000    0.000    0.000    0.000 threading.py:1118(_wait_for_tstate_lock)\n",
      "        1    0.000    0.000    0.000    0.000 iostream.py:91(_event_pipe)\n",
      "        2    0.000    0.000    0.000    0.000 {built-in method time.time}\n",
      "        2    0.000    0.000    0.000    0.000 {method 'write' of '_io.StringIO' objects}\n",
      "        2    0.000    0.000    0.000    0.000 {built-in method nt.getpid}\n",
      "        1    0.000    0.000    0.000    0.000 {method 'acquire' of '_thread.lock' objects}\n",
      "        1    0.000    0.000    0.000    0.000 {method 'append' of 'collections.deque' objects}\n",
      "        1    0.000    0.000    0.000    0.000 {method 'disable' of '_lsprof.Profiler' objects}\n",
      "        1    0.000    0.000    0.000    0.000 threading.py:568(is_set)\n",
      "        2    0.000    0.000    0.000    0.000 {method '__exit__' of '_thread.RLock' objects}\n",
      "        2    0.000    0.000    0.000    0.000 {built-in method builtins.isinstance}"
     ]
    }
   ],
   "source": [
    "%prun benchmark()"
   ]
  }
 ],
 "metadata": {
  "kernelspec": {
   "display_name": "battlesnakes",
   "language": "python",
   "name": "python3"
  },
  "language_info": {
   "codemirror_mode": {
    "name": "ipython",
    "version": 3
   },
   "file_extension": ".py",
   "mimetype": "text/x-python",
   "name": "python",
   "nbconvert_exporter": "python",
   "pygments_lexer": "ipython3",
   "version": "3.11.3"
  },
  "orig_nbformat": 4
 },
 "nbformat": 4,
 "nbformat_minor": 2
}
