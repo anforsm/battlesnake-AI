{
 "cells": [
  {
   "cell_type": "code",
   "execution_count": 268,
   "metadata": {},
   "outputs": [],
   "source": [
    "from importlib import reload\n",
    "import board\n",
    "import snake\n",
    "reload(board)\n",
    "reload(snake)\n",
    "from board import GeneralBoard\n",
    "from snake import Snake"
   ]
  },
  {
   "cell_type": "code",
   "execution_count": 269,
   "metadata": {},
   "outputs": [
    {
     "data": {
      "image/png": "[encoded data removed]"
     },
     "metadata": {},
     "output_type": "display_data"
    },
    {
     "data": {
      "text/plain": [
       "<board.GeneralBoard at 0x1fe37edf9d0>"
      ]
     },
     "execution_count": 269,
     "metadata": {},
     "output_type": "execute_result"
    }
   ],
   "source": [
    "sample_game_state = {\"game\": {\"id\": \"d76a05f5-e961-4523-807f-2d5e5825cd95\", \"ruleset\": {\"name\": \"standard\", \"version\": \"cli\", \"settings\": {\"foodSpawnChance\": 15, \"minimumFood\": 1, \"hazardDamagePerTurn\": 14, \"hazardMap\": \"\", \"hazardMapAuthor\": \"\", \"royale\": {\"shrinkEveryNTurns\": 25}, \"squad\": {\"allowBodyCollisions\": False, \"sharedElimination\": False, \"sharedHealth\": False, \"sharedLength\": False}}}, \"map\": \"standard\", \"timeout\": 500, \"source\": \"\"}, \"turn\": 7, \"board\": {\"height\": 11, \"width\": 11, \"snakes\": [{\"id\": \"f5397cbd-611f-47bc-96fd-7ca72e543bef\", \"name\": \"Team 1 Snake 1\", \"latency\": \"8\", \"health\": 100, \"body\": [{\"x\": 4, \"y\": 1}, {\"x\": 4, \"y\": 2}, {\"x\": 3, \"y\": 2}, {\"x\": 2, \"y\": 2}], \"head\": {\"x\": 4, \"y\": 1}, \"length\": 4, \"shout\": \"\", \"squad\": \"\", \"customizations\": {\"color\": \"#ff4e03\", \"head\": \"default\", \"tail\": \"default\"}}, {\"id\": \"8e15dfcc-fe37-4484-a946-62ff1430f6ac\", \"name\": \"Team 1 Snake 2\", \"latency\": \"8\", \"health\": 95, \"body\": [{\"x\": 5, \"y\": 8}, {\"x\": 4, \"y\": 8}, {\"x\": 3, \"y\": 8}, {\"x\": 2, \"y\": 8}], \"head\": {\"x\": 5, \"y\": 8}, \"length\": 4, \"shout\": \"\", \"squad\": \"\", \"customizations\": {\"color\": \"#ff4e03\", \"head\": \"default\", \"tail\": \"default\"}}], \"food\": [{\"x\": 5, \"y\": 5}, {\"x\": 10, \"y\": 10}], \"hazards\": []}, \"you\": {\"id\": \"f5397cbd-611f-47bc-96fd-7ca72e543bef\", \"name\": \"Team 1 Snake 1\", \"latency\": \"0\", \"health\": 100, \"body\": [{\"x\": 4, \"y\": 1}, {\"x\": 4, \"y\": 2}, {\"x\": 3, \"y\": 2}, {\"x\": 2, \"y\": 2}, {\"x\": 2, \"y\": 2}], \"head\": {\"x\": 4, \"y\": 1}, \"length\": 5, \"shout\": \"\", \"squad\": \"\", \"customizations\": {\"color\": \"#ff4e03\", \"head\": \"default\", \"tail\": \"default\"}}}\n",
    "board = GeneralBoard(11, 11)\n",
    "snake1 = Snake(sample_game_state[\"board\"][\"snakes\"][0][\"id\"])\n",
    "snake2 = Snake(sample_game_state[\"board\"][\"snakes\"][1][\"id\"])\n",
    "snake1.place_on_board(board)\n",
    "snake2.place_on_board(board)\n",
    "snake1.update_state(sample_game_state[\"board\"][\"snakes\"][0])\n",
    "snake2.update_state(sample_game_state[\"board\"][\"snakes\"][1])\n",
    "board"
   ]
  },
  {
   "cell_type": "code",
   "execution_count": 270,
   "metadata": {},
   "outputs": [
    {
     "name": "stdout",
     "output_type": "stream",
     "text": [
      "[Cell(4, 1), Cell(4, 2), Cell(3, 2), Cell(2, 2)]\n",
      "False\n",
      "[<snake.Snake object at 0x000001FE37DA8A50>, <snake.Snake object at 0x000001FE37ED6D50>]\n"
     ]
    },
    {
     "data": {
      "image/png": "[encoded data removed]"
     },
     "metadata": {},
     "output_type": "display_data"
    },
    {
     "data": {
      "text/plain": [
       "<board.GeneralBoard at 0x1fe37626c10>"
      ]
     },
     "execution_count": 270,
     "metadata": {},
     "output_type": "execute_result"
    }
   ],
   "source": [
    "new_board = board.copy()\n",
    "new_board"
   ]
  },
  {
   "cell_type": "code",
   "execution_count": 271,
   "metadata": {},
   "outputs": [
    {
     "data": {
      "image/png": "[encoded data removed]"
     },
     "metadata": {},
     "output_type": "display_data"
    },
    {
     "data": {
      "text/plain": [
       "<board.GeneralBoard at 0x1fe3625fc50>"
      ]
     },
     "execution_count": 271,
     "metadata": {},
     "output_type": "execute_result"
    }
   ],
   "source": [
    "subboards = board.get_possible_subboards()\n",
    "[(c.x, c.y) for c in subboards[0].snakes[1].body]\n",
    "subboards[0]"
   ]
  }
 ],
 "metadata": {
  "kernelspec": {
   "display_name": "battlesnakes",
   "language": "python",
   "name": "python3"
  },
  "language_info": {
   "codemirror_mode": {
    "name": "ipython",
    "version": 3
   },
   "file_extension": ".py",
   "mimetype": "text/x-python",
   "name": "python",
   "nbconvert_exporter": "python",
   "pygments_lexer": "ipython3",
   "version": "3.11.3"
  },
  "orig_nbformat": 4
 },
 "nbformat": 4,
 "nbformat_minor": 2
}
