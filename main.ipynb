{
 "cells": [
  {
   "cell_type": "code",
   "execution_count": 224,
   "metadata": {},
   "outputs": [],
   "source": [
    "from importlib import reload\n",
    "import board\n",
    "import snake\n",
    "reload(board)\n",
    "reload(snake)\n",
    "from board import GeneralBoard\n",
    "from snake import Snake"
   ]
  },
  {
   "cell_type": "code",
   "execution_count": 225,
   "metadata": {},
   "outputs": [
    {
     "data": {
      "image/png": "[encoded data removed]"
     },
     "metadata": {},
     "output_type": "display_data"
    },
    {
     "data": {
      "text/plain": [
       "<board.GeneralBoard at 0x26d6cf9e350>"
      ]
     },
     "execution_count": 225,
     "metadata": {},
     "output_type": "execute_result"
    }
   ],
   "source": [
    "sample_game_state = {\"game\": {\"id\": \"d76a05f5-e961-4523-807f-2d5e5825cd95\", \"ruleset\": {\"name\": \"standard\", \"version\": \"cli\", \"settings\": {\"foodSpawnChance\": 15, \"minimumFood\": 1, \"hazardDamagePerTurn\": 14, \"hazardMap\": \"\", \"hazardMapAuthor\": \"\", \"royale\": {\"shrinkEveryNTurns\": 25}, \"squad\": {\"allowBodyCollisions\": False, \"sharedElimination\": False, \"sharedHealth\": False, \"sharedLength\": False}}}, \"map\": \"standard\", \"timeout\": 500, \"source\": \"\"}, \"turn\": 7, \"board\": {\"height\": 11, \"width\": 11, \"snakes\": [{\"id\": \"f5397cbd-611f-47bc-96fd-7ca72e543bef\", \"name\": \"Team 1 Snake 1\", \"latency\": \"8\", \"health\": 100, \"body\": [{\"x\": 4, \"y\": 1}, {\"x\": 4, \"y\": 2}, {\"x\": 3, \"y\": 2}, {\"x\": 2, \"y\": 2}], \"head\": {\"x\": 4, \"y\": 1}, \"length\": 4, \"shout\": \"\", \"squad\": \"\", \"customizations\": {\"color\": \"#ff4e03\", \"head\": \"default\", \"tail\": \"default\"}}, {\"id\": \"8e15dfcc-fe37-4484-a946-62ff1430f6ac\", \"name\": \"Team 1 Snake 2\", \"latency\": \"8\", \"health\": 95, \"body\": [{\"x\": 5, \"y\": 8}, {\"x\": 4, \"y\": 8}, {\"x\": 3, \"y\": 8}, {\"x\": 2, \"y\": 8}], \"head\": {\"x\": 5, \"y\": 8}, \"length\": 4, \"shout\": \"\", \"squad\": \"\", \"customizations\": {\"color\": \"#ff4e03\", \"head\": \"default\", \"tail\": \"default\"}}], \"food\": [{\"x\": 5, \"y\": 5}, {\"x\": 10, \"y\": 10}], \"hazards\": []}, \"you\": {\"id\": \"f5397cbd-611f-47bc-96fd-7ca72e543bef\", \"name\": \"Team 1 Snake 1\", \"latency\": \"0\", \"health\": 100, \"body\": [{\"x\": 4, \"y\": 1}, {\"x\": 4, \"y\": 2}, {\"x\": 3, \"y\": 2}, {\"x\": 2, \"y\": 2}, {\"x\": 2, \"y\": 2}], \"head\": {\"x\": 4, \"y\": 1}, \"length\": 5, \"shout\": \"\", \"squad\": \"\", \"customizations\": {\"color\": \"#ff4e03\", \"head\": \"default\", \"tail\": \"default\"}}}\n",
    "board = GeneralBoard(11, 11)\n",
    "snake1 = Snake(sample_game_state[\"board\"][\"snakes\"][0][\"id\"])\n",
    "snake2 = Snake(sample_game_state[\"board\"][\"snakes\"][1][\"id\"])\n",
    "snake1.place_on_board(board)\n",
    "snake2.place_on_board(board)\n",
    "snake1.update_state(sample_game_state[\"board\"][\"snakes\"][0])\n",
    "snake2.update_state(sample_game_state[\"board\"][\"snakes\"][1])\n",
    "\n",
    "board"
   ]
  },
  {
   "cell_type": "code",
   "execution_count": 226,
   "metadata": {},
   "outputs": [
    {
     "data": {
      "text/plain": [
       "Cell(4, 1)"
      ]
     },
     "execution_count": 226,
     "metadata": {},
     "output_type": "execute_result"
    }
   ],
   "source": [
    "snake1.head"
   ]
  },
  {
   "cell_type": "code",
   "execution_count": 233,
   "metadata": {},
   "outputs": [
    {
     "name": "stdout",
     "output_type": "stream",
     "text": [
      "Cell(5, 1)\n",
      "[Cell(5, 1), Cell(4, 1), Cell(4, 2), Cell(3, 2)]\n",
      "<snake.Snake object at 0x0000026D6DF53D90>\n"
     ]
    },
    {
     "data": {
      "image/png": "[encoded data removed]"
     },
     "metadata": {},
     "output_type": "display_data"
    },
    {
     "data": {
      "text/plain": [
       "<board.GeneralBoard at 0x26d6df528d0>"
      ]
     },
     "execution_count": 233,
     "metadata": {},
     "output_type": "execute_result"
    }
   ],
   "source": [
    "new_s = snake1.simulate_move(\"right\")\n",
    "print(new_s.head)\n",
    "print(new_s.body)\n",
    "print(new_s.head.snake)\n",
    "new_s.board"
   ]
  },
  {
   "cell_type": "code",
   "execution_count": 228,
   "metadata": {},
   "outputs": [],
   "source": [
    "future = snake1.alternative_futures(\"up\")"
   ]
  },
  {
   "cell_type": "code",
   "execution_count": 229,
   "metadata": {},
   "outputs": [
    {
     "data": {
      "image/png": "[encoded data removed]"
     },
     "metadata": {},
     "output_type": "display_data"
    },
    {
     "data": {
      "image/png": "[encoded data removed]"
     },
     "metadata": {},
     "output_type": "display_data"
    },
    {
     "data": {
      "image/png": "[encoded data removed]"
     },
     "metadata": {},
     "output_type": "display_data"
    },
    {
     "data": {
      "image/png": "[encoded data removed]"
     },
     "metadata": {},
     "output_type": "display_data"
    },
    {
     "data": {
      "image/png": "[encoded data removed]"
     },
     "metadata": {},
     "output_type": "display_data"
    },
    {
     "data": {
      "image/png": "[encoded data removed]"
     },
     "metadata": {},
     "output_type": "display_data"
    },
    {
     "data": {
      "image/png": "[encoded data removed]"
     },
     "metadata": {},
     "output_type": "display_data"
    },
    {
     "data": {
      "text/plain": [
       "[None, None, None, None, None, None, None]"
      ]
     },
     "execution_count": 229,
     "metadata": {},
     "output_type": "execute_result"
    }
   ],
   "source": [
    "[f._repr_png_() for f in future]"
   ]
  },
  {
   "cell_type": "code",
   "execution_count": 230,
   "metadata": {},
   "outputs": [],
   "source": [
    "def benchmark():\n",
    "    import time\n",
    "    start = time.time()\n",
    "    subboards = board.get_possible_subboards()\n",
    "    for subboard in subboards:\n",
    "        next_subboards = subboard.get_possible_subboards()\n",
    "        for next_subboard in next_subboards:\n",
    "            next_subboard.get_possible_subboards()\n",
    "    end = time.time()\n",
    "    duration_ms = (end - start) * 1000\n",
    "    print(duration_ms)"
   ]
  },
  {
   "cell_type": "code",
   "execution_count": 231,
   "metadata": {},
   "outputs": [
    {
     "name": "stdout",
     "output_type": "stream",
     "text": [
      "8455.995559692383\n",
      " "
     ]
    },
    {
     "name": "stdout",
     "output_type": "stream",
     "text": [
      "         5379658 function calls in 7.949 seconds\n",
      "\n",
      "   Ordered by: internal time\n",
      "\n",
      "   ncalls  tottime  percall  cumtime  percall filename:lineno(function)\n",
      "   560835    2.406    0.000    2.905    0.000 board.py:9(__init__)\n",
      "   373890    2.088    0.000    4.447    0.000 board.py:62(copy)\n",
      "   379578    0.906    0.000    1.166    0.000 board.py:48(clear_snake_info)\n",
      "     1545    0.507    0.000    1.405    0.001 board.py:91(create_cells)\n",
      "     1545    0.502    0.000    3.197    0.002 board.py:151(<listcomp>)\n",
      "  1340855    0.459    0.000    0.459    0.000 board.py:25(set_snake)\n",
      "   934725    0.248    0.000    0.248    0.000 board.py:19(set_food)\n",
      "   934725    0.246    0.000    0.246    0.000 board.py:22(set_hazard)\n",
      "     8466    0.159    0.000    0.159    0.000 board.py:113(clear_snake)\n",
      "   379578    0.132    0.000    0.132    0.000 board.py:32(set_closest_snakes)\n",
      "     8466    0.047    0.000    0.215    0.000 board.py:104(place_snake)\n",
      "   395520    0.037    0.000    0.037    0.000 {method 'append' of 'list' objects}\n",
      "     1545    0.033    0.000    8.229    0.005 board.py:148(copy)\n",
      "     3090    0.028    0.000    0.157    0.000 snake.py:127(copy_to_board)\n",
      "     1545    0.025    0.000    3.434    0.002 board.py:150(<listcomp>)\n",
      "     2688    0.023    0.000    0.052    0.000 snake.py:46(move)\n",
      "      186    0.022    0.000    8.455    0.045 board.py:123(get_possible_subboards)\n",
      "     2688    0.018    0.000    0.028    0.000 snake.py:134(<listcomp>)\n",
      "    18816    0.016    0.000    0.016    0.000 board.py:83(get_cell)\n",
      "     2688    0.009    0.000    0.141    0.000 board.py:118(place_snakes)\n",
      "     2688    0.008    0.000    0.201    0.000 board.py:144(move_snake)\n",
      "     3090    0.007    0.000    0.090    0.000 board.py:100(add_snake)\n",
      "     1000    0.006    0.000    0.019    0.000 snake.py:68(kill)\n",
      "     3090    0.005    0.000    0.096    0.000 snake.py:29(place_on_board)\n",
      "     1545    0.004    0.000    1.409    0.001 board.py:76(__init__)\n",
      "     2688    0.002    0.000    0.002    0.000 board.py:138(get_snake)\n",
      "     3090    0.002    0.000    0.002    0.000 snake.py:23(__init__)\n",
      "        1    0.001    0.001    8.457    8.457 3624261310.py:1(benchmark)\n",
      "     2481    0.001    0.000    0.001    0.000 board.py:45(is_occupied)\n",
      "     1688    0.001    0.000    0.001    0.000 {method 'insert' of 'list' objects}\n",
      "     1688    0.001    0.000    0.001    0.000 board.py:39(is_food)\n",
      "     1733    0.000    0.000    0.000    0.000 {built-in method builtins.len}\n",
      "     1688    0.000    0.000    0.000    0.000 {method 'pop' of 'list' objects}\n",
      "      186    0.000    0.000    0.000    0.000 board.py:127(<listcomp>)\n",
      "        1    0.000    0.000    0.000    0.000 socket.py:613(send)\n",
      "        1    0.000    0.000    8.457    8.457 {built-in method builtins.exec}\n",
      "        2    0.000    0.000    0.000    0.000 iostream.py:546(write)\n",
      "        1    0.000    0.000    0.000    0.000 iostream.py:205(schedule)\n",
      "        1    0.000    0.000    0.000    0.000 {built-in method builtins.print}\n",
      "        1    0.000    0.000    8.457    8.457 <string>:1(<module>)\n",
      "        1    0.000    0.000    0.000    0.000 threading.py:1185(is_alive)\n",
      "        2    0.000    0.000    0.000    0.000 iostream.py:468(_schedule_flush)\n",
      "        2    0.000    0.000    0.000    0.000 iostream.py:447(_is_master_process)\n",
      "        1    0.000    0.000    0.000    0.000 threading.py:1118(_wait_for_tstate_lock)\n",
      "        1    0.000    0.000    0.000    0.000 iostream.py:91(_event_pipe)\n",
      "        1    0.000    0.000    0.000    0.000 {method 'acquire' of '_thread.lock' objects}\n",
      "        2    0.000    0.000    0.000    0.000 {built-in method time.time}\n",
      "        2    0.000    0.000    0.000    0.000 {built-in method nt.getpid}\n",
      "        2    0.000    0.000    0.000    0.000 {method 'write' of '_io.StringIO' objects}\n",
      "        2    0.000    0.000    0.000    0.000 {built-in method builtins.isinstance}\n",
      "        1    0.000    0.000    0.000    0.000 {method 'append' of 'collections.deque' objects}\n",
      "        1    0.000    0.000    0.000    0.000 threading.py:568(is_set)\n",
      "        2    0.000    0.000    0.000    0.000 {method '__exit__' of '_thread.RLock' objects}\n",
      "        1    0.000    0.000    0.000    0.000 {method 'disable' of '_lsprof.Profiler' objects}"
     ]
    }
   ],
   "source": [
    "%prun benchmark()"
   ]
  }
 ],
 "metadata": {
  "kernelspec": {
   "display_name": "battlesnakes",
   "language": "python",
   "name": "python3"
  },
  "language_info": {
   "codemirror_mode": {
    "name": "ipython",
    "version": 3
   },
   "file_extension": ".py",
   "mimetype": "text/x-python",
   "name": "python",
   "nbconvert_exporter": "python",
   "pygments_lexer": "ipython3",
   "version": "3.11.3"
  },
  "orig_nbformat": 4
 },
 "nbformat": 4,
 "nbformat_minor": 2
}
